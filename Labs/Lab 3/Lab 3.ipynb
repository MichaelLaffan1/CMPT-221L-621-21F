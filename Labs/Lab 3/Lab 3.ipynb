{
 "cells": [
  {
   "cell_type": "markdown",
   "source": [
    "# Lab Three\n",
    "---\n",
    "\n",
    "Ok for this lab we're going to reiterate a lot of the things that we went over in class.\n",
    "\n",
    "Our Goals are:\n",
    "- Understanding Variable Types\n",
    "- Defining Variables\n",
    "- Using Conditionals\n",
    "- Using Loops\n",
    "- Creating Objects\n",
    "- Writing a function\n"
   ],
   "metadata": {}
  },
  {
   "cell_type": "markdown",
   "source": [
    "## What's the difference between Null and undefined?"
   ],
   "metadata": {}
  },
  {
   "cell_type": "code",
   "execution_count": null,
   "source": [
    "/** \r\n",
    " Null is when we purposely assign no value to something, essentially acting as a placeholder value. \r\n",
    " The value would be equal to zero.\r\n",
    " Undefined is when something is declared, but it is not defined.\r\n",
    " The value would be equal to (NaN), which stands for Not a Number.\r\n",
    " */"
   ],
   "outputs": [],
   "metadata": {}
  },
  {
   "cell_type": "markdown",
   "source": [
    "## List the 3 Variable Types and Use Them!"
   ],
   "metadata": {}
  },
  {
   "cell_type": "code",
   "execution_count": null,
   "source": [
    "var myName = \"Michael\";\r\n",
    "console.log(myName);\r\n",
    "\r\n",
    "let occupation = \"Networking\";\r\n",
    "console.log(occupation);\r\n",
    "\r\n",
    "occupation = \"Hardware\";\r\n",
    "console.log(occupation);\r\n",
    "\r\n",
    "const year = \"Sophomore\";\r\n",
    "console.log(year);\r\n",
    "\r\n",
    "year = \"Junior\";\r\n",
    "console.log(year);"
   ],
   "outputs": [],
   "metadata": {}
  },
  {
   "cell_type": "markdown",
   "source": [
    "## Use an If/Else If/Else Statement and a Switch Case statement"
   ],
   "metadata": {}
  },
  {
   "cell_type": "code",
   "execution_count": null,
   "source": [
    "var stack = 6;\r\n",
    "var message = \"Granted\";\r\n",
    "var condition = \"Okay\";\r\n",
    "if (stack === 6){\r\n",
    "    console.log('Hi!');\r\n",
    "}\r\n",
    "\r\n",
    "if (message === 'Granted'){\r\n",
    "    console.log(\"You are allowed in.\");\r\n",
    "}else{\r\n",
    "    console.log(\"You are banished.\");\r\n",
    "}\r\n",
    "\r\n",
    "if (condition === \"Okay\"){\r\n",
    "    console.log(\"You are good.\");\r\n",
    "}else if (condition === \"Bad\"){\r\n",
    "    console.log(\"You need help.\");\r\n",
    "}else{\r\n",
    "    console.log(\"Your condition is unknown.\");\r\n",
    "}\r\n",
    "\r\n",
    "var task = \"Laundry\"\r\n",
    "switch (task){\r\n",
    "    case (\"Laundry\"):\r\n",
    "        console.log(\"Time to do laundry.\");\r\n",
    "        break;\r\n",
    "    case (\"Dishes\"):\r\n",
    "        console.log(\"Let's do dishes.\");\r\n",
    "        break;\r\n",
    "    case (\"Lawn\"):\r\n",
    "        console.log(\"Let's mow the lawn.\");\r\n",
    "        break;\r\n",
    "    default:\r\n",
    "        console.log(\"You have no tasks.\");\r\n",
    "        break;\r\n",
    "}"
   ],
   "outputs": [],
   "metadata": {}
  },
  {
   "cell_type": "markdown",
   "source": [
    "## Use a For and a While Loop"
   ],
   "metadata": {}
  },
  {
   "cell_type": "code",
   "execution_count": null,
   "source": [
    "var length = 9;\r\n",
    "for (var i = 0; i <= 5; i++){\r\n",
    "    console.log('Hello');\r\n",
    "}\r\n",
    "while (length != 0){\r\n",
    "    console.log(length);\r\n",
    "    length--;\r\n",
    "}"
   ],
   "outputs": [],
   "metadata": {}
  },
  {
   "cell_type": "markdown",
   "source": [
    "## Make an object!"
   ],
   "metadata": {}
  },
  {
   "cell_type": "code",
   "execution_count": null,
   "source": [
    "let michaelLaffan = {\r\n",
    "    firstName: Michael\r\n",
    "    lastName: Laffan\r\n",
    "    year: Sophomore\r\n",
    "    Occupation: Networking\r\n",
    "}"
   ],
   "outputs": [],
   "metadata": {}
  },
  {
   "cell_type": "markdown",
   "source": [
    "## Make a function, It can do anything!"
   ],
   "metadata": {}
  },
  {
   "cell_type": "code",
   "execution_count": null,
   "source": [
    "function addTwoNumbers(num1,num2){\r\n",
    "    var add = num1 + num2;\r\n",
    "    return num2;\r\n",
    "}"
   ],
   "outputs": [],
   "metadata": {}
  },
  {
   "cell_type": "markdown",
   "source": [
    "## Optional: Checkout HackerRank and try a problem in Javascript"
   ],
   "metadata": {}
  }
 ],
 "metadata": {
  "orig_nbformat": 4,
  "language_info": {
   "name": "javascript",
   "version": "10.22.0",
   "mimetype": "application/javascript",
   "file_extension": ".js"
  },
  "kernelspec": {
   "name": "javascript",
   "display_name": "Javascript (Node.js)",
   "language": "javascript"
  }
 },
 "nbformat": 4,
 "nbformat_minor": 2
}